{
 "cells": [
  {
   "cell_type": "markdown",
   "metadata": {
    "colab_type": "text",
    "id": "jlo4V6MRBEDQ"
   },
   "source": [
    "# First things first\n",
    "Click **File -> Save a copy in Drive** and click **Open in new tab** in the pop-up window to save your progress in Google Drive."
   ]
  },
  {
   "cell_type": "markdown",
   "metadata": {
    "colab_type": "text",
    "id": "WMlNHfVxBEDT"
   },
   "source": [
    "# Expectation-maximization algorithm"
   ]
  },
  {
   "cell_type": "markdown",
   "metadata": {
    "colab_type": "text",
    "id": "icS4MsxIBEDU"
   },
   "source": [
    "In this assignment, we will derive and implement formulas for Gaussian Mixture Model — one of the most commonly used methods for performing soft clustering of the data. "
   ]
  },
  {
   "cell_type": "markdown",
   "metadata": {
    "colab_type": "text",
    "id": "jequoJfSBEDV"
   },
   "source": [
    "### Setup\n",
    "Loading auxiliary files and importing the necessary libraries."
   ]
  },
  {
   "cell_type": "code",
   "execution_count": 0,
   "metadata": {
    "colab": {},
    "colab_type": "code",
    "id": "ZqZo-y9UBEDX"
   },
   "outputs": [],
   "source": [
    "try:\n",
    "    import google.colab\n",
    "    IN_COLAB = True\n",
    "except:\n",
    "    IN_COLAB = False\n",
    "if IN_COLAB:\n",
    "    print(\"Downloading Colab files\")\n",
    "    ! shred -u setup_google_colab.py\n",
    "    ! wget https://raw.githubusercontent.com/hse-aml/bayesian-methods-for-ml/master/setup_google_colab.py -O setup_google_colab.py\n",
    "    import setup_google_colab\n",
    "    setup_google_colab.load_data_week2()"
   ]
  },
  {
   "cell_type": "code",
   "execution_count": 1,
   "metadata": {
    "colab": {},
    "colab_type": "code",
    "id": "urylZcbeBEDc"
   },
   "outputs": [],
   "source": [
    "import numpy as np\n",
    "from numpy.linalg import slogdet, det, solve\n",
    "import matplotlib.pyplot as plt\n",
    "import time\n",
    "from sklearn.datasets import load_digits\n",
    "from w2_grader import EMGrader\n",
    "%matplotlib inline"
   ]
  },
  {
   "cell_type": "markdown",
   "metadata": {
    "colab_type": "text",
    "id": "tP8l9frZBEDf"
   },
   "source": [
    "### Grading\n",
    "We will create a grader instance below and use it to collect your answers. Note that these outputs will be stored locally inside grader and will be uploaded to the platform only after running submitting function in the last part of this assignment. If you want to make a partial submission, you can run that cell anytime you want."
   ]
  },
  {
   "cell_type": "code",
   "execution_count": 2,
   "metadata": {
    "colab": {},
    "colab_type": "code",
    "id": "7Gvy3EOvBEDg"
   },
   "outputs": [],
   "source": [
    "grader = EMGrader()"
   ]
  },
  {
   "cell_type": "markdown",
   "metadata": {
    "colab_type": "text",
    "id": "dL3A2sntBEDj"
   },
   "source": [
    "## Implementing EM for GMM"
   ]
  },
  {
   "cell_type": "markdown",
   "metadata": {
    "colab_type": "text",
    "id": "0xPS_VdpBEDk"
   },
   "source": [
    "For debugging, we will use samples from a Gaussian mixture model with unknown mean, variance, and priors. We also added initial values of parameters for grading purposes."
   ]
  },
  {
   "cell_type": "code",
   "execution_count": 326,
   "metadata": {
    "colab": {},
    "colab_type": "code",
    "id": "g9_aOn94BEDl"
   },
   "outputs": [
    {
     "data": {
      "image/png": "[encoded data removed]",
      "text/plain": [
       "<Figure size 432x288 with 1 Axes>"
      ]
     },
     "metadata": {
      "needs_background": "light"
     },
     "output_type": "display_data"
    }
   ],
   "source": [
    "samples = np.load('samples.npz')\n",
    "X = samples['data']\n",
    "pi0 = samples['pi0']\n",
    "mu0 = samples['mu0']\n",
    "sigma0 = samples['sigma0']\n",
    "plt.scatter(X[:, 0], X[:, 1], c='grey', s=30)\n",
    "plt.axis('equal')\n",
    "plt.show()"
   ]
  },
  {
   "cell_type": "markdown",
   "metadata": {
    "colab_type": "text",
    "id": "AmgeHTCfBEDp"
   },
   "source": [
    "### Reminder"
   ]
  },
  {
   "cell_type": "markdown",
   "metadata": {
    "colab_type": "text",
    "id": "RgAwWi1nBEDq"
   },
   "source": [
    "Remember, that EM algorithm is a coordinate descent optimization of variational lower bound $\\mathcal{L}(\\theta, q) = \\int q(T) \\log\\frac{p(X, T|\\theta)}{q(T)}dT\\to \\max$.\n",
    "\n",
    "<b>E-step</b>:<br>\n",
    "$\\mathcal{L}(\\theta, q) \\to \\max\\limits_{q} \\Leftrightarrow \\mathcal{KL} [q(T) \\,\\|\\, p(T|X, \\theta)] \\to \\min \\limits_{q\\in Q} \\Rightarrow q(T) = p(T|X, \\theta)$<br>\n",
    "<b>M-step</b>:<br> \n",
    "$\\mathcal{L}(\\theta, q) \\to \\max\\limits_{\\theta} \\Leftrightarrow \\mathbb{E}_{q(T)}\\log p(X,T | \\theta) \\to \\max\\limits_{\\theta}$\n",
    "\n",
    "For GMM, $\\theta$ is a set of parameters that consists of mean vectors $\\mu_c$, covariance matrices $\\Sigma_c$ and priors $\\pi_c$ for each component.\n",
    "\n",
    "Latent variables $T$ are indices of components to which each data point is assigned, i.e. $t_i$  is the cluster index for object $x_i$.\n",
    "\n",
    "The joint distribution can be written as follows: $\\log p(T, X \\mid \\theta) =  \\sum\\limits_{i=1}^N \\log p(t_i, x_i \\mid \\theta) = \\sum\\limits_{i=1}^N \\sum\\limits_{c=1}^C q(t_i = c) \\log \\left (\\pi_c \\, f_{\\!\\mathcal{N}}(x_i \\mid \\mu_c, \\Sigma_c)\\right)$,\n",
    "个人觉得这个是只有L(theta,q)取max时才能成立的等式！\n",
    "where $f_{\\!\\mathcal{N}}(x \\mid \\mu_c, \\Sigma_c) = \\frac{1}{\\sqrt{(2\\pi)^n|\\boldsymbol\\Sigma_c|}}\n",
    "\\exp\\left(-\\frac{1}{2}({x}-{\\mu_c})^T{\\boldsymbol\\Sigma_c}^{-1}({x}-{\\mu_c})\n",
    "\\right)$ is the probability density function (pdf) of the normal distribution $\\mathcal{N}(x_i \\mid \\mu_c, \\Sigma_c)$."
   ]
  },
  {
   "cell_type": "markdown",
   "metadata": {
    "colab_type": "text",
    "id": "ELmi1nAtBEDr"
   },
   "source": [
    "### E-step\n",
    "In this step we need to estimate the posterior distribution over the latent variables with fixed values of parameters: $q_i(t_i) = p(t_i \\mid x_i, \\theta)$. We assume that $t_i$ equals to the cluster index of the true component of the $x_i$ object. To do so we need to compute $\\gamma_{ic} = p(t_i = c \\mid x_i, \\theta)$. Note that $\\sum\\limits_{c=1}^C\\gamma_{ic}=1$.\n"
   ]
  },
  {
   "cell_type": "markdown",
   "metadata": {
    "colab_type": "text",
    "id": "53FR1RJ9BEDs"
   },
   "source": [
    "<b>Important trick 1:</b> It is important to avoid numerical errors. At some point you will have to compute the formula of the following form: $\\frac{e^{y_i}}{\\sum_j e^{y_j}}$, which is called _softmax_. When you compute exponents of large numbers, some numbers may become infinity. You can avoid this by dividing numerator and denominator by $e^{\\max(y)}$: $\\frac{e^{y_i-\\max(y)}}{\\sum_j e^{y_j - \\max(y)}}$. After this transformation maximum value in the denominator will be equal to one. All other terms will contribute smaller values. So, to compute desired formula you first subtract maximum value from each component in vector $\\mathbf{y}$ and then compute everything else as before.\n",
    "\n",
    "<b>Important trick 2:</b> You will probably need to compute formula of the form $A^{-1}x$ at some point. You would normally inverse $A$ and then multiply it by $x$. A bit faster and more numerically accurate way to do this is to directly solve equation $Ay = x$ by using a special function. Its solution is $y=A^{-1}x$, but the equation $Ay = x$ can be solved by methods which do not explicitely invert the matrix. You can use ```np.linalg.solve``` for this.\n",
    "\n",
    "<b>Other usefull functions: </b> <a href=\"https://docs.scipy.org/doc/numpy/reference/generated/numpy.linalg.slogdet.html\">```slogdet```</a> and <a href=\"https://docs.scipy.org/doc/numpy/reference/generated/numpy.linalg.det.html#numpy.linalg.det\">```det```</a>"
   ]
  },
  {
   "cell_type": "markdown",
   "metadata": {
    "colab_type": "text",
    "id": "KL87Q8-TBEDu"
   },
   "source": [
    "<b>Task 1:</b> Implement E-step for GMM using template below."
   ]
  },
  {
   "cell_type": "code",
   "execution_count": 403,
   "metadata": {
    "colab": {},
    "colab_type": "code",
    "id": "wCUCaD28BEDw"
   },
   "outputs": [],
   "source": [
    "def E_step(X, pi, mu, sigma):\n",
    "    \"\"\"\n",
    "    Performs E-step on GMM model\n",
    "    Each input is numpy array:\n",
    "    X: (N x d), data points\n",
    "    pi: (C), mixture component weights \n",
    "    mu: (C x d), mixture component means\n",
    "    sigma: (C x d x d), mixture component covariance matrices\n",
    "    \n",
    "    Returns:\n",
    "    gamma: (N x C), probabilities of clusters for objects\n",
    "    \"\"\"\n",
    "    N = X.shape[0] # number of objects\n",
    "    C = pi.shape[0] # number of clusters\n",
    "    d = mu.shape[1] # dimension of each object\n",
    "    gamma = np.zeros((N, C)) # distribution q(T)\n",
    "\n",
    "    ### YOUR CODE HERE\n",
    "    ### still not familiar with tensor... so let's use for loop... unfortunately...\n",
    "    \n",
    "    ## pre calculate det for each covariance matrix\n",
    "    print(sigma)\n",
    "    sqrt_covariance_determinate = np.sqrt(det(sigma))\n",
    "    print(sqrt_covariance_determinate)\n",
    "    inverse_deternimate_covariance = 1/sqrt_covariance_determinate\n",
    "    prefix_term = pi * inverse_deternimate_covariance # pi * |Cov|_i^-1\n",
    "    \n",
    "    for datum_index in range(N):\n",
    "        ## prepare all numeric calculation for exponetial term\n",
    "        datum = X[datum_index,:] # 1 * d\n",
    "        X_minus_miu = datum - mu # C * d\n",
    "\n",
    "        cluster_exponent = np.zeros((1,C));\n",
    "        for cluster_index in range(C):\n",
    "            x_minus_miu = X_minus_miu[cluster_index,:]\n",
    "            cluster_cov = sigma[cluster_index,:,:]\n",
    "            cluster_exponent[0,cluster_index] = - 0.5 * x_minus_miu.dot(solve(cluster_cov,x_minus_miu.transpose()))\n",
    "        cluster_exponent -=  max(max(cluster_exponent))\n",
    "        expotential = np.exp(cluster_exponent)\n",
    "        \n",
    "        ## calculate Gamma for each target i \n",
    "        numerator = prefix_term * expotential\n",
    "        denominator = sum(sum(numerator))\n",
    "        gamma[datum_index,:] = numerator / denominator\n",
    "    \n",
    "    return gamma"
   ]
  },
  {
   "cell_type": "code",
   "execution_count": 328,
   "metadata": {
    "colab": {},
    "colab_type": "code",
    "id": "xlhktOlMBED1"
   },
   "outputs": [
    {
     "name": "stdout",
     "output_type": "stream",
     "text": [
      "Current answer for task Task 1 (E-step) is: 0.5337178741081263\n"
     ]
    }
   ],
   "source": [
    "gamma = E_step(X, pi0, mu0, sigma0)\n",
    "grader.submit_e_step(gamma)"
   ]
  },
  {
   "cell_type": "markdown",
   "metadata": {
    "colab_type": "text",
    "id": "fERrQWSCBED5"
   },
   "source": [
    "### M-step\n",
    "\n",
    "In M-step we need to maximize $\\mathbb{E}_{q(T)}\\log p(X,T | \\theta)$ with respect to $\\theta$. In our model this means that we need to find optimal values of $\\pi$, $\\mu$, $\\Sigma$. To do so, you need to compute the derivatives and \n",
    "set them to zero. You should start by deriving formulas for $\\mu$ as it is the easiest part. Then move on to $\\Sigma$. Here it is crucial to optimize function w.r.t. to $\\Lambda = \\Sigma^{-1}$ and then inverse obtained result. Finaly, to compute $\\pi$, you will need <a href=\"https://www3.nd.edu/~jstiver/FIN360/Constrained%20Optimization.pdf\">Lagrange Multipliers technique</a> to satisfy constraint $\\sum\\limits_{i=1}^{n}\\pi_i = 1$.\n",
    "\n",
    "<br>\n",
    "<b>Important note:</b> You will need to compute derivatives of scalars with respect to matrices. To refresh this technique from previous courses, see <a href=\"https://en.wikipedia.org/wiki/Matrix_calculus\"> wiki article</a> about it . Main formulas of matrix derivatives can be found in <a href=\"http://www2.imm.dtu.dk/pubdb/views/edoc_download.php/3274/pdf/imm3274.pdf\">Chapter 2 of The Matrix Cookbook</a>. For example, there you may find that $\\frac{\\partial}{\\partial A}\\log |A| = A^{-T}$.\n"
   ]
  },
  {
   "cell_type": "markdown",
   "metadata": {
    "colab_type": "text",
    "id": "A31OYSogBED6"
   },
   "source": [
    "<b>Task 2:</b> Implement M-step for GMM using template below."
   ]
  },
  {
   "cell_type": "code",
   "execution_count": 329,
   "metadata": {
    "colab": {},
    "colab_type": "code",
    "id": "mhOr5I1bBED7"
   },
   "outputs": [],
   "source": [
    "def M_step(X, gamma):\n",
    "    \"\"\"\n",
    "    Performs M-step on GMM model\n",
    "    Each input is numpy array:\n",
    "    X: (N x d), data points\n",
    "    gamma: (N x C), distribution q(T)  \n",
    "    \n",
    "    Returns:\n",
    "    pi: (C)\n",
    "    mu: (C x d)\n",
    "    sigma: (C x d x d)\n",
    "    \"\"\"\n",
    "    N = X.shape[0] # number of objects\n",
    "    C = gamma.shape[1] # number of clusters\n",
    "    d = X.shape[1] # dimension of each object\n",
    "\n",
    "    ### YOUR CODE HERE\n",
    "    gamma_denominator = np.diag(1/ np.sum(gamma,0))\n",
    "    weighted_gamma = gamma.dot(gamma_denominator)\n",
    "    mu = weighted_gamma.transpose().dot(X)\n",
    "    \n",
    "    sigma = np.zeros((C,d,d))\n",
    "    for cluster_index in range(C):\n",
    "        miu_k = mu[cluster_index,:]\n",
    "        delta_k = X - miu_k\n",
    "        data_weight = np.diag(weighted_gamma[:,cluster_index])\n",
    "        sigma[cluster_index,:,:] = delta_k.transpose().dot(data_weight).dot(delta_k)\n",
    "    \n",
    "    pi = np.sum(gamma,0) / N\n",
    "\n",
    "    return pi, mu, sigma"
   ]
  },
  {
   "cell_type": "code",
   "execution_count": 330,
   "metadata": {},
   "outputs": [],
   "source": [
    "gamma = E_step(X, pi0, mu0, sigma0)\n",
    "pi, mu, sigma = M_step(X, gamma)"
   ]
  },
  {
   "cell_type": "code",
   "execution_count": 331,
   "metadata": {
    "colab": {},
    "colab_type": "code",
    "id": "6i5cv65SBED-"
   },
   "outputs": [
    {
     "name": "stdout",
     "output_type": "stream",
     "text": [
      "Current answer for task Task 2 (M-step: mu) is: 2.8993918820503826\n",
      "Current answer for task Task 2 (M-step: sigma) is: 5.977105216897528\n",
      "Current answer for task Task 2 (M-step: pi) is: 0.5507624459218775\n"
     ]
    }
   ],
   "source": [
    "gamma = E_step(X, pi0, mu0, sigma0)\n",
    "pi, mu, sigma = M_step(X, gamma)\n",
    "grader.submit_m_step(pi, mu, sigma)"
   ]
  },
  {
   "cell_type": "markdown",
   "metadata": {
    "colab_type": "text",
    "id": "svyzjt7XBEEC"
   },
   "source": [
    "### Loss function"
   ]
  },
  {
   "cell_type": "markdown",
   "metadata": {
    "colab_type": "text",
    "id": "qexOXBLUBEED"
   },
   "source": [
    "Finally, we need some function to track convergence. We will use variational lower bound $\\mathcal{L}$ for this purpose. We will stop our EM iterations when $\\mathcal{L}$ will saturate. Usually, you will need only about 10-20 iterations to converge. It is also useful to check that this function never decreases during training. If it does, you have a bug in your code.\n",
    "\n",
    "<b>Task 3:</b> Implement a function that will compute $\\mathcal{L}$ using template below.\n",
    "\n",
    "$$\\mathcal{L} = \\sum_{i=1}^{N} \\sum_{c=1}^{C} q(t_i =c) (\\log \\pi_c + \\log f_{\\!\\mathcal{N}}(x_i \\mid \\mu_c, \\Sigma_c)) - \\sum_{i=1}^{N} \\sum_{c=1}^{K} q(t_i =c) \\log q(t_i =c)$$"
   ]
  },
  {
   "cell_type": "code",
   "execution_count": 352,
   "metadata": {
    "colab": {},
    "colab_type": "code",
    "id": "B5tKCZe0BEEE"
   },
   "outputs": [],
   "source": [
    "def compute_vlb(X, pi, mu, sigma, gamma):\n",
    "    \"\"\"\n",
    "    Each input is numpy array:\n",
    "    X: (N x d), data points\n",
    "    gamma: (N x C), distribution q(T)  \n",
    "    pi: (C)\n",
    "    mu: (C x d)\n",
    "    sigma: (C x d x d)\n",
    "    \n",
    "    Returns value of variational lower bound\n",
    "    \"\"\"\n",
    "    N = X.shape[0] # number of objects\n",
    "    C = gamma.shape[1] # number of clusters\n",
    "    d = X.shape[1] # dimension of each object\n",
    "\n",
    "    ### YOUR CODE HERE\n",
    "    log_gamma = np.log(gamma)\n",
    "    inf_index = np.isinf(log_gamma)\n",
    "    log_gamma[inf_index] = 0\n",
    "    q_entropy = np.sum([ gamma[datum_index,:].dot(log_gamma[datum_index,:].transpose()) for datum_index in range(N)])\n",
    "    \n",
    "    log_p = np.log(pi)\n",
    "    q_log_p = np.sum([gamma[datum_index,:].dot(log_p) for datum_index in range(N)])\n",
    "    \n",
    "    log_d_2pi = d * np.log(2 * np.pi)\n",
    "    _ ,log_covariance_determinate = slogdet(sigma) # positive defined matrix\n",
    "    q_log_proba = 0\n",
    "    for datum_index in range(N):\n",
    "        \n",
    "        datum = X[datum_index,:] # 1 * d\n",
    "        X_minus_miu = datum - mu # C * d\n",
    "\n",
    "        cluster_exponent = np.zeros((C));\n",
    "        for cluster_index in range(C):\n",
    "            x_minus_miu = X_minus_miu[cluster_index,:] # 1 * d\n",
    "            cluster_cov = sigma[cluster_index,:,:]\n",
    "            cluster_exponent[cluster_index] =  x_minus_miu.dot(solve(cluster_cov,x_minus_miu.transpose()))\n",
    "        \n",
    "        log_proba = -0.5 * (log_d_2pi + log_covariance_determinate + cluster_exponent)\n",
    "        q_log_proba +=  gamma[datum_index,:].dot(log_proba)\n",
    "        \n",
    "\n",
    "    loss = q_log_p + q_log_proba - q_entropy\n",
    "    return loss"
   ]
  },
  {
   "cell_type": "code",
   "execution_count": 349,
   "metadata": {
    "colab": {},
    "colab_type": "code",
    "id": "xNva3XRTBEEI"
   },
   "outputs": [
    {
     "name": "stdout",
     "output_type": "stream",
     "text": [
      "[[-1.00660809e-02 -4.60361265e+00 -3.59205947e+01]\n",
      " [-2.24479246e-02 -3.80776008e+00 -3.21663939e+01]\n",
      " [-2.20120611e-02 -3.82715058e+00 -3.49463203e+01]\n",
      " [-5.29145824e-04 -7.54451107e+00 -5.31981887e+01]\n",
      " [-5.17790156e-04 -7.56619939e+00 -5.86904412e+01]\n",
      " [-9.59034666e+00 -6.83880494e-05 -4.59045550e+01]\n",
      " [-8.24827453e+01  0.00000000e+00 -1.30183701e+02]\n",
      " [-1.69763829e+00 -2.02257718e-01 -1.57470515e+01]\n",
      " [-4.07932841e-02 -3.21956512e+00 -2.78812324e+01]\n",
      " [-8.30787651e-01 -6.27887905e-01 -3.48753469e+00]\n",
      " [-8.61738327e-01 -5.53848521e-01 -5.86423341e+00]\n",
      " [-1.17822827e-02 -4.44704370e+00 -3.62368080e+01]\n",
      " [-6.10757995e-01 -7.83664523e-01 -8.01162298e+00]\n",
      " [-2.22098213e+00 -1.14852639e-01 -7.15150111e+01]\n",
      " [-7.37342420e+00 -6.27912167e-04 -5.40090672e+01]\n",
      " [-1.44076451e-01 -2.00858653e+00 -1.51998469e+01]\n",
      " [-2.27284504e+01 -3.04523407e-10 -2.24958814e+01]\n",
      " [-1.42636949e-03 -6.55333598e+00 -4.70725054e+01]\n",
      " [-5.40112124e-01 -8.74296912e-01 -8.72871110e+00]\n",
      " [-4.93724746e+00 -7.20017799e-03 -7.41123303e+01]\n",
      " [-1.22802033e-01 -2.15795452e+00 -1.87161965e+01]\n",
      " [-7.24857067e+01  0.00000000e+00 -1.36158876e+02]\n",
      " [-1.02389631e-01 -2.32972787e+00 -2.82451942e+01]\n",
      " [-6.92204260e-01 -6.94091027e-01 -1.78114957e+01]\n",
      " [-8.49609598e-01 -5.57885485e-01 -3.49897310e+01]\n",
      " [-2.47812798e-02 -3.71003181e+00 -2.89238734e+01]\n",
      " [-1.88885512e+00 -1.64058795e-01 -9.67218355e+00]\n",
      " [-3.33255556e-03 -5.70568165e+00 -4.21488095e+01]\n",
      " [-1.84260175e-03 -6.29749787e+00 -5.09014456e+01]\n",
      " [-6.21450272e-01 -7.70384309e-01 -2.23799856e+01]\n",
      " [-1.29681726e+00 -3.19379946e-01 -3.91186010e+01]\n",
      " [-2.32800669e+01 -7.75524089e-11 -3.97898054e+01]\n",
      " [-9.53515328e+00 -7.23103967e-05 -1.69969009e+01]\n",
      " [-2.69703622e+00 -6.98024086e-02 -1.09859341e+01]\n",
      " [-5.51891651e-02 -2.92445630e+00 -2.42423143e+01]\n",
      " [-1.64970515e+00 -2.13325090e-01 -5.40307143e+01]\n",
      " [-1.67067004e-02 -4.10028714e+00 -3.12759752e+01]\n",
      " [-1.97459614e-03 -6.22837852e+00 -4.61547366e+01]\n",
      " [-3.30738050e-02 -3.42550503e+00 -4.58664347e+01]\n",
      " [-2.51472520e-01 -1.50358760e+00 -1.11706781e+01]\n",
      " [-6.53278779e+01  0.00000000e+00 -1.07131131e+02]\n",
      " [-8.98188104e+01  0.00000000e+00 -7.15882862e+01]\n",
      " [-1.25943424e+01 -3.39121275e-06 -2.35354245e+01]\n",
      " [-1.12626373e-02 -4.49189050e+00 -4.01091738e+01]\n",
      " [-2.74764660e+01 -1.16717747e-12 -4.94146296e+01]\n",
      " [-1.03813731e+01 -2.96531142e-04 -8.23396155e+00]\n",
      " [-2.10154368e+01 -3.04264988e-07 -1.50078239e+01]\n",
      " [-7.71929923e-02 -2.59979483e+00 -2.65039359e+01]\n",
      " [-1.26845551e-01 -2.12753753e+00 -3.39616262e+01]\n",
      " [-2.43501142e+00 -9.16734510e-02 -1.53835098e+01]\n",
      " [-2.00525635e-01 -1.70543438e+00 -1.20168572e+01]\n",
      " [-1.13585844e+01 -1.16706601e-05 -2.01906141e+01]\n",
      " [-1.02940504e+01 -2.09282173e-04 -8.64829052e+00]\n",
      " [-1.27271251e+02  0.00000000e+00 -2.27029195e+02]\n",
      " [-1.08516320e-02 -4.52886070e+00 -5.12900996e+01]\n",
      " [-1.02552726e+01 -3.60921418e-05 -1.38989738e+01]\n",
      " [-9.14761565e+01  0.00000000e+00 -1.63356919e+02]\n",
      " [-2.62946652e-01 -1.46439822e+00 -4.49542236e+01]\n",
      " [-4.04731111e-01 -1.10020765e+00 -1.00813697e+01]\n",
      " [-6.19988393e+00 -2.03172877e-03 -3.46997555e+01]\n",
      " [-1.15340628e+01 -9.86352135e-06 -1.64379175e+01]\n",
      " [-1.05003936e-02 -4.56158814e+00 -3.43992896e+01]\n",
      " [-7.49419674e-01 -8.68270424e-01 -2.22856860e+00]\n",
      " [-4.78395738e-01 -9.67000838e-01 -1.34477291e+01]\n",
      " [-6.71599697e-04 -7.30618387e+00 -5.54027615e+01]\n",
      " [-1.83853274e-02 -4.00538094e+00 -3.45582893e+01]\n",
      " [-3.92242553e-01 -1.12559387e+00 -1.70959893e+01]\n",
      " [-4.50193004e+01  0.00000000e+00 -8.37236132e+01]\n",
      " [-1.92610095e+00 -1.63840843e-01 -5.21994234e+00]\n",
      " [-1.33011184e+00 -3.07133613e-01 -2.11644694e+01]\n",
      " [-1.65832298e-01 -1.87854882e+00 -4.37529353e+01]\n",
      " [-5.64926927e-01 -8.40259958e-01 -1.85380320e+01]\n",
      " [-2.91809551e-01 -1.37401317e+00 -2.65164519e+01]\n",
      " [-1.24007686e+02  0.00000000e+00 -2.21936024e+02]\n",
      " [-1.63215898e+01 -1.11846364e-07 -1.73134769e+01]\n",
      " [-8.03449201e+01  0.00000000e+00 -1.22315910e+02]\n",
      " [-2.71551331e-01 -1.43630951e+00 -1.62454388e+01]\n",
      " [-6.45094139e-03 -5.04675294e+00 -3.78716386e+01]\n",
      " [-4.94728255e-01 -9.40933327e-01 -5.20930216e+01]\n",
      " [-2.52833990e+00 -8.56611518e-02 -6.07336090e+00]\n",
      " [-4.01990447e-02 -3.23394424e+00 -4.34404305e+01]\n",
      " [-1.76976638e-03 -6.33779248e+00 -7.56820612e+01]\n",
      " [-1.72099898e+01 -3.35759627e-08 -2.47441788e+01]\n",
      " [-1.90013579e-02 -3.97273047e+00 -3.25216306e+01]\n",
      " [-1.14272554e+01 -1.08945278e-05 -3.18390152e+01]\n",
      " [-1.42021879e+00 -2.76653323e-01 -1.07465531e+01]\n",
      " [-3.31843167e-02 -3.42222418e+00 -5.00863961e+01]\n",
      " [-8.35770929e+01  0.00000000e+00 -1.38934953e+02]\n",
      " [-6.20782765e-02 -2.81023774e+00 -4.13143337e+01]\n",
      " [-7.14928906e+01  0.00000000e+00 -6.34447874e+01]\n",
      " [-1.94284130e-02 -3.95071718e+00 -3.81291026e+01]\n",
      " [-2.48202254e+01 -1.08929838e-07 -1.60327145e+01]\n",
      " [-9.74830074e+01  0.00000000e+00 -6.48278044e+01]\n",
      " [-3.97293659e+01 -1.11022302e-16 -3.64607912e+01]\n",
      " [-4.93834787e+01  0.00000000e+00 -1.08691035e+02]\n",
      " [-9.21028871e+00 -2.28470389e-03 -6.12747179e+00]\n",
      " [-7.15956880e-02 -2.67230471e+00 -2.12279292e+01]\n",
      " [-1.73394012e+01 -2.95119131e-08 -2.43199023e+01]\n",
      " [-5.20413019e+01  0.00000000e+00 -5.82982102e+01]\n",
      " [-8.64918818e+01  0.00000000e+00 -1.53047953e+02]\n",
      " [-2.87176424e-01 -1.38781284e+00 -2.25893330e+01]\n",
      " [-5.98698936e-03 -5.12115861e+00 -4.13444332e+01]\n",
      " [-1.36015622e+01 -1.24326877e-06 -1.91737195e+01]\n",
      " [-2.20558970e+01 -2.63851607e-10 -3.02999774e+01]\n",
      " [-4.00452485e+00 -1.84012193e-02 -5.38337025e+01]\n",
      " [-2.38803097e-02 -3.74661741e+00 -3.27025267e+01]\n",
      " [-2.20916860e+01 -2.73027401e-02 -3.61438853e+00]\n",
      " [-1.03325546e+02  0.00000000e+00 -1.93561706e+02]\n",
      " [-2.32262057e+01 -8.18439760e-11 -4.01416347e+01]\n",
      " [-6.05359762e-01 -7.89392421e-01 -1.35012521e+01]\n",
      " [-5.14860079e-01 -9.10269406e-01 -5.33431538e+01]\n",
      " [-1.67134412e+01 -5.73437897e-08 -1.99318198e+01]\n",
      " [-4.76948791e-01 -9.69360118e-01 -1.94606965e+01]\n",
      " [-1.36904781e+01 -1.13333977e-06 -2.25950066e+01]\n",
      " [-5.22252167e+00 -5.41012192e-03 -1.32261938e+01]\n",
      " [-3.89088818e-02 -3.26592409e+00 -2.54142376e+01]\n",
      " [-6.42263344e-01 -7.46800314e-01 -1.08568438e+01]\n",
      " [-5.19082358e-02 -2.98411967e+00 -3.69137578e+01]\n",
      " [-3.34576301e-01 -1.25751887e+00 -1.63547704e+01]\n",
      " [-1.08903109e+02  0.00000000e+00 -2.04391007e+02]\n",
      " [-9.53907959e-03 -4.65712403e+00 -3.79114223e+01]\n",
      " [-1.27028583e-02 -4.37227295e+00 -6.26775382e+01]\n",
      " [-2.19867938e-03 -6.12099752e+00 -4.46869919e+01]\n",
      " [-2.04603859e+01 -1.30626965e-09 -2.59084113e+01]\n",
      " [-2.76236148e+00 -6.52240855e-02 -1.81163589e+01]\n",
      " [-9.12831675e+01  0.00000000e+00 -1.97953185e+02]\n",
      " [-3.24439533e+01 -1.14598631e-07 -1.59818301e+01]\n",
      " [-1.26524438e-01 -2.12991509e+00 -2.28776835e+01]\n",
      " [-4.04027136e-01 -1.17744026e+00 -3.71696228e+00]\n",
      " [-1.21793490e+02  0.00000000e+00 -2.49247665e+02]\n",
      " [-5.15305918e-02 -2.99123429e+00 -4.55947531e+01]\n",
      " [-4.60506221e+01 -1.88737914e-15 -3.39197691e+01]\n",
      " [-7.26471948e+00 -1.14657786e-03 -7.71491530e+00]\n",
      " [-3.92185717e+01 -3.33066907e-16 -3.56768968e+01]\n",
      " [-8.94882144e-03 -4.72070451e+00 -3.58029440e+01]\n",
      " [-3.68487151e-01 -1.49902706e+00 -2.46660464e+00]\n",
      " [-3.26701495e+01 -6.43929354e-15 -5.56187547e+01]\n",
      " [-1.24724034e+02  0.00000000e+00 -2.40876540e+02]\n",
      " [-4.07748520e+01  0.00000000e+00 -5.46332783e+01]\n",
      " [-7.78441481e-03 -4.85952133e+00 -3.96474205e+01]\n",
      " [-2.05901550e-02 -3.89321964e+00 -4.82208393e+01]\n",
      " [-1.76646688e+00 -1.87457756e-01 -6.05733275e+01]\n",
      " [-2.59987496e-03 -5.95359158e+00 -4.34362727e+01]\n",
      " [-1.48876495e+02  0.00000000e+00 -2.64312587e+02]\n",
      " [-1.68023690e+01 -6.97549003e-08 -1.77626825e+01]\n",
      " [-5.12413043e-04 -7.57663573e+00 -5.34709459e+01]\n",
      " [-5.15661815e-03 -5.27005151e+00 -4.10615392e+01]\n",
      " [-3.54402657e-01 -1.20929509e+00 -1.71322945e+01]\n",
      " [-3.80577411e-02 -3.28761929e+00 -4.43166782e+01]\n",
      " [-7.46123436e-03 -4.90176271e+00 -3.74990333e+01]\n",
      " [-4.13857945e+01  0.00000000e+00 -7.57310831e+01]\n",
      " [-6.73813034e+00 -1.18556288e-03 -7.92005727e+01]\n",
      " [-5.86311231e-03 -5.14200483e+00 -3.88064628e+01]\n",
      " [-1.96313765e-03 -6.23419265e+00 -5.53279038e+01]\n",
      " [-1.65162951e-02 -4.11165458e+00 -3.13751078e+01]\n",
      " [-1.35889410e+00 -2.96984970e-01 -1.69262043e+01]\n",
      " [-2.84918340e+00 -5.96349108e-02 -7.66443001e+01]\n",
      " [-2.29675410e+01 -1.06047837e-10 -3.07650731e+01]\n",
      " [-1.29893696e+00 -3.18583523e-01 -4.85626376e+01]\n",
      " [-5.11267631e-03 -5.27858752e+00 -3.95274144e+01]\n",
      " [-1.01110796e+02  0.00000000e+00 -1.95034036e+02]\n",
      " [-3.50852294e+01 -6.66133815e-16 -4.44483331e+01]\n",
      " [-1.53326055e+01 -2.38105948e-07 -1.77916597e+01]\n",
      " [-7.77765804e+00 -4.20263936e-04 -1.36471619e+01]\n",
      " [-1.81462439e+01 -1.37117276e-08 -2.13141593e+01]\n",
      " [-8.86372615e+01  0.00000000e+00 -1.52954141e+02]\n",
      " [-4.02434574e-01 -1.10470105e+00 -2.63685538e+01]\n",
      " [-3.83158289e+00 -2.19136384e-02 -5.25272835e+01]\n",
      " [-1.24440791e+00 -3.39836906e-01 -1.30557973e+01]\n",
      " [-2.81609607e+01 -5.88751270e-13 -4.20124645e+01]\n",
      " [-1.22141619e+01 -4.95972926e-06 -3.61847622e+01]\n",
      " [-9.57819697e+01  0.00000000e+00 -1.58560749e+02]\n",
      " [-8.94765098e+01  0.00000000e+00 -1.46068457e+02]\n",
      " [-2.07751601e+01 -9.49430202e-10 -3.45238990e+01]\n",
      " [-2.83377654e+00 -6.05895796e-02 -1.57945439e+01]\n",
      " [-4.54800905e+01 -7.79076803e-12 -2.55780878e+01]\n",
      " [-3.86457546e+00 -2.11961719e-02 -1.35625123e+01]\n",
      " [-8.77249289e+00 -2.09419017e-04 -9.81803983e+00]\n",
      " [-2.08840566e+00 -1.32257339e-01 -2.14030791e+01]\n",
      " [-1.28987641e+00 -3.22613096e-01 -7.72606526e+00]\n",
      " [-4.55843024e-03 -5.39305531e+00 -4.19131098e+01]\n",
      " [-3.63449070e+00 -2.67520412e-02 -8.41114497e+01]\n",
      " [-7.17480463e-02 -2.67025420e+00 -2.45896982e+01]\n",
      " [-1.00569514e+02  0.00000000e+00 -1.76383873e+02]\n",
      " [-3.46295503e-01 -1.22861886e+00 -2.69130815e+01]\n",
      " [-5.06971844e-02 -3.00712641e+00 -2.49343978e+01]\n",
      " [-1.90085297e-01 -1.75382001e+00 -1.85177923e+01]\n",
      " [-4.72856344e-02 -3.07509840e+00 -3.51559353e+01]\n",
      " [-2.92515286e-01 -1.37194230e+00 -1.29924255e+01]\n",
      " [-1.12979673e+00 -3.90230187e-01 -1.72769382e+01]\n",
      " [-9.09721895e+00 -1.11983059e-04 -8.41929723e+01]\n",
      " [-1.49240685e+00 -3.00201125e-01 -3.36679912e+00]\n",
      " [-4.99709638e-03 -5.30139577e+00 -3.92406313e+01]\n",
      " [-6.10174290e+00 -2.24147226e-03 -3.16055038e+01]\n",
      " [-7.54878194e-02 -2.62129047e+00 -2.06054991e+01]\n",
      " [-9.69948796e-02 -2.38120256e+00 -2.93728891e+01]\n",
      " [-3.28977180e+01 -1.99257832e-10 -2.23364476e+01]\n",
      " [-1.05532087e+01 -2.61099103e-05 -5.64741515e+01]\n",
      " [-1.89888628e-02 -3.97338205e+00 -4.08967224e+01]\n",
      " [-8.38978855e-03 -4.78493192e+00 -3.79138486e+01]\n",
      " [-2.07852025e+01 -5.41751381e-03 -5.22082598e+00]\n",
      " [-1.26655551e+01 -3.19340281e-06 -1.71580931e+01]\n",
      " [-3.43848550e-01 -1.44642668e+00 -2.89040489e+00]\n",
      " [-3.74291948e-02 -3.30396050e+00 -2.66620263e+01]\n",
      " [-1.93991948e-02 -3.95220763e+00 -3.03295613e+01]\n",
      " [-1.11836061e+02  0.00000000e+00 -2.16724253e+02]\n",
      " [-5.25169931e-02 -2.97276207e+00 -2.80435531e+01]\n",
      " [-2.93676763e+01 -1.76414439e-13 -3.59083003e+01]\n",
      " [-8.51459677e+01  0.00000000e+00 -1.44120943e+02]\n",
      " [-7.84084178e-02 -2.58477205e+00 -2.51664244e+01]\n",
      " [-1.53335985e-02 -4.18536588e+00 -7.54302460e+01]\n",
      " [-2.80789579e+01 -9.82658399e-13 -2.86989957e+01]\n",
      " [-3.66750036e-03 -5.61007814e+00 -4.62258527e+01]\n",
      " [-1.55435010e+02  0.00000000e+00 -2.57810491e+02]\n",
      " [-2.21192647e-01 -1.61727982e+00 -2.34586714e+01]\n",
      " [-2.53520270e+00 -8.25620129e-02 -1.86038444e+01]\n",
      " [-1.26215650e-02 -4.37865257e+00 -4.91484540e+01]\n",
      " [-6.51709402e+01  0.00000000e+00 -5.59144134e+01]\n",
      " [-5.88709516e-01 -8.09777848e-01 -3.66648720e+01]\n",
      " [-1.42561638e-03 -6.55386373e+00 -5.27301667e+01]\n",
      " [-2.83794262e+00 -6.03297831e-02 -3.30349825e+01]\n",
      " [-3.32194969e+00 -3.67494793e-02 -6.78760637e+01]\n",
      " [-3.10105638e+00 -4.60558174e-02 -1.15428021e+01]\n",
      " [-2.36993646e-03 -6.04607687e+00 -4.41059538e+01]\n",
      " [-2.04597599e+00 -1.38404938e-01 -6.96554196e+01]\n",
      " [-6.93417223e-01 -6.92877256e-01 -1.76045951e+01]\n",
      " [-9.96195835e-01 -4.60895969e-01 -1.58488029e+01]\n",
      " [-1.37526933e+01 -1.06483275e-06 -3.35651881e+01]\n",
      " [-9.80071716e-03 -4.63019607e+00 -3.89765773e+01]\n",
      " [-5.28989510e+00 -5.05666809e-03 -1.33358571e+01]\n",
      " [-1.83457151e+01 -1.16624415e-08 -2.08465981e+01]\n",
      " [-4.13135005e-03 -5.49121600e+00 -4.90240100e+01]\n",
      " [-4.26196912e-01 -1.05844084e+00 -1.10529412e+01]\n",
      " [-1.04594064e+01 -2.86776625e-05 -4.54024424e+01]\n",
      " [-1.23649343e-02 -4.39906679e+00 -3.35915876e+01]\n",
      " [-4.85831780e-03 -5.32949121e+00 -6.32534171e+01]\n",
      " [-6.26512962e+00 -1.96506435e-03 -9.69374626e+00]\n",
      " [-2.77168703e+00 -6.45986665e-02 -1.95448401e+01]\n",
      " [-3.25559632e+00 -3.93208639e-02 -1.82832818e+01]\n",
      " [-9.63454647e+01  0.00000000e+00 -1.43811733e+02]\n",
      " [-1.51401966e+01 -2.65951731e-07 -2.34523845e+01]\n",
      " [-6.80463055e-01 -7.05994263e-01 -2.23380892e+01]\n",
      " [-4.30041548e+01  0.00000000e+00 -4.35162271e+01]\n",
      " [-1.97432929e-01 -1.71945547e+00 -1.36967066e+01]\n",
      " [-1.01725808e-02 -4.59314131e+00 -3.46408678e+01]\n",
      " [-1.72948140e-02 -4.06598354e+00 -3.55899003e+01]\n",
      " [-1.17459327e-01 -2.19981803e+00 -2.64600304e+01]\n",
      " [-6.67460239e+00 -1.26722238e-03 -1.24686588e+01]\n",
      " [-2.94602846e-02 -3.53940619e+00 -3.16849058e+01]\n",
      " [-1.71425593e-01 -1.84809461e+00 -3.93109771e+01]\n",
      " [-3.26220513e-01 -1.29031585e+00 -5.75398856e+00]\n",
      " [-3.91355627e-02 -3.26022766e+00 -4.13221742e+01]\n",
      " [-1.32446701e-01 -2.08706751e+00 -6.48308688e+01]\n",
      " [-1.10705676e+00 -4.07885277e-01 -5.42286819e+00]\n",
      " [-5.17940677e-03 -5.26565334e+00 -4.05045159e+01]\n",
      " [-1.23671124e+02  0.00000000e+00 -2.64463883e+02]\n",
      " [-7.44433333e+00 -5.85370125e-04 -1.46073094e+01]\n",
      " [-1.03618913e-01 -2.31839754e+00 -3.18903630e+01]\n",
      " [-6.61423172e-02 -2.74883542e+00 -3.86204401e+01]\n",
      " [-3.15177017e-01 -1.30807375e+00 -6.74932195e+01]\n",
      " [-6.50776513e+00 -1.49292386e-03 -4.48090407e+01]\n",
      " [-4.34307520e-01 -1.24649887e+00 -2.73679980e+00]\n",
      " [-1.75579663e-02 -4.05101365e+00 -4.97160697e+01]\n",
      " [-2.38868974e+00 -9.62354420e-02 -1.73943846e+01]\n",
      " [-1.16274300e-02 -4.46019640e+00 -3.97644054e+01]\n",
      " [-1.61665695e+01 -7.01614362e-02 -2.69183348e+00]\n",
      " [-3.12750591e-02 -3.48053111e+00 -4.10429244e+01]\n",
      " [-3.27592122e+01 -5.88418203e-15 -3.88918850e+01]\n",
      " [-9.90739828e+01  0.00000000e+00 -2.00626452e+02]\n",
      " [-5.23390813e-03 -5.25521284e+00 -3.89139954e+01]\n",
      " [-1.12698690e+00 -3.91574122e-01 -2.65792148e+01]\n",
      " [-1.57223383e-03 -6.45604386e+00 -4.64795454e+01]\n",
      " [-3.37898904e+00 -1.26137315e-01 -2.47189987e+00]\n",
      " [-7.10694918e+00 -8.19727480e-04 -2.12320351e+01]\n",
      " [-2.77152907e-02 -3.59959665e+00 -3.27867297e+01]\n",
      " [-1.44620446e+02  0.00000000e+00 -2.93904207e+02]\n",
      " [-3.42805595e-01 -1.27480944e+00 -4.53381780e+00]\n",
      " [-1.76642796e-03 -6.33967896e+00 -6.20720255e+01]\n",
      " [-4.73727361e-02 -3.07330127e+00 -2.62826517e+01]\n",
      " [-5.82020333e-01 -8.18189542e-01 -1.31668661e+01]]\n",
      "-54.91071222596836\n",
      "pi [0.44702322 0.55076245 0.00221433]\n",
      "log_pi [-0.80514473 -0.5964517  -6.11280447]\n",
      "Current answer for task Task 3 (VLB) is: -1213.9734643060171\n"
     ]
    }
   ],
   "source": [
    "pi, mu, sigma = pi0, mu0, sigma0\n",
    "gamma = E_step(X, pi, mu, sigma)\n",
    "pi, mu, sigma = M_step(X, gamma)\n",
    "loss = compute_vlb(X, pi, mu, sigma, gamma)\n",
    "grader.submit_VLB(loss)\n",
    "\n",
    "# gamma = E_step(X, pi, mu, sigma)\n",
    "# pi, mu, sigma = M_step(X, gamma)\n",
    "# loss = compute_vlb(X, pi, mu, sigma, gamma)\n",
    "# grader.submit_VLB(loss)"
   ]
  },
  {
   "cell_type": "markdown",
   "metadata": {
    "colab_type": "text",
    "id": "I5p8XC-eBEEM"
   },
   "source": [
    "### Bringing it all together"
   ]
  },
  {
   "cell_type": "markdown",
   "metadata": {
    "colab_type": "text",
    "id": "cQsdsNVCBEEU"
   },
   "source": [
    "Now that we have E step, M step and VLB, we can implement the training loop. We will initialize values of $\\pi$, $\\mu$ and $\\Sigma$ to some random numbers, train until $\\mathcal{L}$ stops changing, and return the resulting points. We also know that the EM algorithm converges to local optima. To find a better local optima, we will restart the algorithm multiple times from different (random) starting positions. Each training trial should stop either when maximum number of iterations is reached or when relative improvement is smaller than given tolerance ($|\\frac{\\mathcal{L}_i-\\mathcal{L}_{i-1}}{\\mathcal{L}_{i-1}}| \\le \\text{rtol}$).\n",
    "\n",
    "Remember, that initial (random) values of $\\pi$ that you generate must be non-negative and sum up to 1. Also, $\\Sigma$ matrices must be symmetric and positive semi-definite. If you don't know how to generate those matrices, you can use $\\Sigma=I$ as initialization.\n",
    "\n",
    "You will also sometimes get numerical errors because of component collapsing. The easiest way to deal with this problems is to restart the procedure.\n",
    "\n",
    "<b>Task 4:</b> Implement training procedure"
   ]
  },
  {
   "cell_type": "code",
   "execution_count": 410,
   "metadata": {
    "colab": {},
    "colab_type": "code",
    "id": "Q1AAcyl0BEEW"
   },
   "outputs": [],
   "source": [
    "def train_EM(X, C, rtol=1e-3, max_iter=100, restarts=10):\n",
    "    '''\n",
    "    Starts with random initialization *restarts* times\n",
    "    Runs optimization until saturation with *rtol* reached\n",
    "    or *max_iter* iterations were made.\n",
    "    \n",
    "    X: (N, d), data points\n",
    "    C: int, number of clusters\n",
    "    '''\n",
    "    N = X.shape[0] # number of objects\n",
    "    d = X.shape[1] # dimension of each object\n",
    "    best_loss = None\n",
    "    best_pi = None\n",
    "    best_mu = None\n",
    "    best_sigma = None\n",
    "\n",
    "    for _ in range(restarts):\n",
    "        try:\n",
    "            ### YOUR CODE HERE\n",
    "            ## Random Initialisation\n",
    "            pi = np.random.random(C)+0.01\n",
    "            best_pi = pi / sum(pi)\n",
    "            best_mu = np.random.random([C,d]) * np.max(np.abs(X))\n",
    "            best_sigma = np.zeros([C,d,d])\n",
    "            for cluster_index in range(C):\n",
    "                semi_sigma = np.random.random([d,d])\n",
    "                best_sigma[cluster_index,:,:] =semi_sigma.transpose() .dot(semi_sigma) \n",
    "                print(det(best_sigma[cluster_index,:,:]))\n",
    "            \n",
    "            previous_loss = 1e-10\n",
    "            best_loss = 1\n",
    "            iter_num = 0\n",
    "            while(rtol <= np.abs((best_loss - previous_loss)/previous_loss) and iter_num <= max_iter):\n",
    "                print(f\"=== iter {iter_num} computing E step === \\n\")\n",
    "                gamma = E_step(X, best_pi, best_mu, best_sigma)\n",
    "                print(f\"=== iter {iter_num} computing M step === \\n\")\n",
    "                best_pi, best_mu, best_sigma = M_step(X, gamma)\n",
    "                previous_loss = best_loss\n",
    "                best_loss = compute_vlb(X, best_pi, best_mu, best_sigma, gamma)\n",
    "                print(f\"=== iter {iter_num} result === \\n\")\n",
    "                print(f\"pi {best_pi}, best_loss {best_loss}\")\n",
    "                iter_num += 1\n",
    "            else:\n",
    "                return best_loss, best_pi, best_mu, best_sigma\n",
    "\n",
    "        except np.linalg.LinAlgError:\n",
    "            print(\"Singular matrix: components collapsed\")\n",
    "            pass\n",
    "\n",
    "    return best_loss, best_pi, best_mu, best_sigma"
   ]
  },
  {
   "cell_type": "code",
   "execution_count": 411,
   "metadata": {
    "colab": {},
    "colab_type": "code",
    "id": "0f8A5sbmBEEZ"
   },
   "outputs": [
    {
     "name": "stdout",
     "output_type": "stream",
     "text": [
      "0.019077364102787056\n",
      "0.006882366862265323\n",
      "0.03372821246032097\n",
      "=== iter 0 computing E step === \n",
      "\n",
      "[[[0.79832698 0.36739542]\n",
      "  [0.36739542 0.19297451]]\n",
      "\n",
      " [[1.29533071 0.79675218]\n",
      "  [0.79675218 0.49539195]]\n",
      "\n",
      " [[0.59099952 0.36098649]\n",
      "  [0.36098649 0.27756277]]]\n",
      "[0.13812083 0.08296003 0.18365242]\n",
      "=== iter 0 computing M step === \n",
      "\n",
      "=== iter 0 result === \n",
      "\n",
      "pi [0.66099552 0.18900392 0.15000055], best_loss -1196.8601053103741\n",
      "=== iter 1 computing E step === \n",
      "\n",
      "[[[2.05257897 0.73658451]\n",
      "  [0.73658451 2.52438213]]\n",
      "\n",
      " [[8.96027655 5.32548796]\n",
      "  [5.32548796 3.34862928]]\n",
      "\n",
      " [[1.61448898 0.78607205]\n",
      "  [0.78607205 1.09566629]]]\n",
      "[2.15381915 1.28211638 1.07286154]\n",
      "=== iter 1 computing M step === \n",
      "\n",
      "=== iter 1 result === \n",
      "\n",
      "pi [0.65105015 0.19432504 0.15462481], best_loss -1113.6990743817144\n",
      "=== iter 2 computing E step === \n",
      "\n",
      "[[[1.1131869  0.59060097]\n",
      "  [0.59060097 2.66815123]]\n",
      "\n",
      " [[9.83456619 6.01186824]\n",
      "  [6.01186824 3.96816399]]\n",
      "\n",
      " [[0.98047784 0.10694657]\n",
      "  [0.10694657 0.69335369]]]\n",
      "[1.61905574 1.69782558 0.81754532]\n",
      "=== iter 2 computing M step === \n",
      "\n",
      "=== iter 2 result === \n",
      "\n",
      "pi [0.6475682  0.18491448 0.16751732], best_loss -1105.508146557249\n",
      "=== iter 3 computing E step === \n",
      "\n",
      "[[[ 1.09016488  0.58741642]\n",
      "  [ 0.58741642  2.64405698]]\n",
      "\n",
      " [[ 9.53633939  5.80561218]\n",
      "  [ 5.80561218  3.85480553]]\n",
      "\n",
      " [[ 0.98903658 -0.07898721]\n",
      "  [-0.07898721  0.64977023]]]\n",
      "[1.59292185 1.74802777 0.79775156]\n",
      "=== iter 3 computing M step === \n",
      "\n",
      "=== iter 3 result === \n",
      "\n",
      "pi [0.64111165 0.17501411 0.18387424], best_loss -1101.594534141234\n",
      "=== iter 4 computing E step === \n",
      "\n",
      "[[[ 1.08284165  0.54955075]\n",
      "  [ 0.54955075  2.52602179]]\n",
      "\n",
      " [[ 9.10750063  5.57989276]\n",
      "  [ 5.57989276  3.74060382]]\n",
      "\n",
      " [[ 1.12710383 -0.18689223]\n",
      "  [-0.18689223  0.6839173 ]]]\n",
      "[1.55989602 1.71241013 0.85785611]\n",
      "=== iter 4 computing M step === \n",
      "\n",
      "=== iter 4 result === \n",
      "\n",
      "pi [0.63155858 0.16459339 0.20384803], best_loss -1096.7303245562541\n",
      "=== iter 5 computing E step === \n",
      "\n",
      "[[[ 1.06253392  0.47869238]\n",
      "  [ 0.47869238  2.34088716]]\n",
      "\n",
      " [[ 8.41529625  5.26772439]\n",
      "  [ 5.26772439  3.60590167]]\n",
      "\n",
      " [[ 1.30160771 -0.2892121 ]\n",
      "  [-0.2892121   0.74491889]]]\n",
      "[1.5027061  1.61115193 0.94124839]\n",
      "=== iter 5 computing M step === \n",
      "\n",
      "=== iter 5 result === \n",
      "\n",
      "pi [0.61940496 0.15422226 0.22637278], best_loss -1090.4347455491622\n",
      "=== iter 6 computing E step === \n",
      "\n",
      "[[[ 1.02829798  0.37988048]\n",
      "  [ 0.37988048  2.11018246]]\n",
      "\n",
      " [[ 7.44419919  4.84554833]\n",
      "  [ 4.84554833  3.43409371]]\n",
      "\n",
      " [[ 1.45011145 -0.3805574 ]\n",
      "  [-0.3805574   0.82683858]]]\n",
      "[1.42323124 1.44386253 1.02673471]\n",
      "=== iter 6 computing M step === \n"
     ]
    },
    {
     "name": "stderr",
     "output_type": "stream",
     "text": [
      "c:\\program files\\python37\\lib\\site-packages\\ipykernel_launcher.py:17: RuntimeWarning: divide by zero encountered in log\n"
     ]
    },
    {
     "name": "stdout",
     "output_type": "stream",
     "text": [
      "\n",
      "=== iter 6 result === \n",
      "\n",
      "pi [0.60648832 0.14517817 0.2483335 ], best_loss -1083.7261344177548\n",
      "=== iter 7 computing E step === \n",
      "\n",
      "[[[ 0.99522426  0.28149222]\n",
      "  [ 0.28149222  1.87847914]]\n",
      "\n",
      " [[ 6.39793715  4.37545836]\n",
      "  [ 4.37545836  3.23637768]]\n",
      "\n",
      " [[ 1.51859974 -0.43694471]\n",
      "  [-0.43694471  0.92220944]]]\n",
      "[1.33800977 1.24960199 1.09979377]\n",
      "=== iter 7 computing M step === \n",
      "\n",
      "=== iter 7 result === \n",
      "\n",
      "pi [0.59419673 0.13758512 0.26821815], best_loss -1077.720398573228\n",
      "=== iter 8 computing E step === \n",
      "\n",
      "[[[ 0.97447491  0.20508291]\n",
      "  [ 0.20508291  1.67562605]]\n",
      "\n",
      " [[ 5.39164475  3.87403424]\n",
      "  [ 3.87403424  2.99877618]]\n",
      "\n",
      " [[ 1.52805076 -0.45421592]\n",
      "  [-0.45421592  1.02009561]]]\n",
      "[1.26126783 1.07712328 1.16294702]\n",
      "=== iter 8 computing M step === \n",
      "\n",
      "=== iter 8 result === \n",
      "\n",
      "pi [0.58325059 0.13091509 0.28583432], best_loss -1072.689823790305\n",
      "=== iter 9 computing E step === \n",
      "\n",
      "[[[ 0.96313755  0.15179766]\n",
      "  [ 0.15179766  1.50737858]]\n",
      "\n",
      " [[ 4.44348835  3.34604155]\n",
      "  [ 3.34604155  2.71527621]]\n",
      "\n",
      " [[ 1.51441046 -0.44822056]\n",
      "  [-0.44822056  1.1080439 ]]]\n",
      "[1.19531183 0.93236479 1.21537303]\n",
      "=== iter 9 computing M step === \n",
      "\n",
      "=== iter 9 result === \n",
      "\n",
      "pi [0.57427822 0.12523231 0.30048947], best_loss -1069.1336123281537\n",
      "=== iter 10 computing E step === \n",
      "\n",
      "[[[ 0.95717163  0.11760519]\n",
      "  [ 0.11760519  1.37761055]]\n",
      "\n",
      " [[ 3.70122062  2.88566134]\n",
      "  [ 2.88566134  2.43595676]]\n",
      "\n",
      " [[ 1.49327889 -0.43763511]\n",
      "  [-0.43763511  1.17970449]]]\n",
      "[1.14226913 0.83004338 1.25303764]\n",
      "=== iter 10 computing M step === \n",
      "\n",
      "=== iter 10 result === \n",
      "\n",
      "pi [0.56751898 0.12036098 0.31212005], best_loss -1067.017968530447\n",
      "=== iter 11 computing E step === \n",
      "\n",
      "[[[ 0.95353654  0.09668973]\n",
      "  [ 0.09668973  1.28677201]]\n",
      "\n",
      " [[ 3.13998294  2.49259049]\n",
      "  [ 2.49259049  2.16418216]]\n",
      "\n",
      " [[ 1.47913645 -0.42703943]\n",
      "  [-0.42703943  1.23679365]]]\n",
      "[1.1034651  0.76320882 1.28336429]\n",
      "=== iter 11 computing M step === \n",
      "\n",
      "=== iter 11 result === \n",
      "\n",
      "pi [0.56268453 0.11626264 0.32105283], best_loss -1065.6918399648619\n",
      "=== iter 12 computing E step === \n",
      "\n",
      "[[[ 0.95080931  0.08445359]\n",
      "  [ 0.08445359  1.22722103]]\n",
      "\n",
      " [[ 2.67811338  2.14446006]\n",
      "  [ 2.14446006  1.90404245]]\n",
      "\n",
      " [[ 1.47517124 -0.41623985]\n",
      "  [-0.41623985  1.28190305]]]\n",
      "[1.07690333 0.70748328 1.31063759]\n",
      "=== iter 12 computing M step === \n",
      "\n",
      "=== iter 12 result === \n",
      "\n",
      "pi [0.55928679 0.11302366 0.32768955], best_loss -1064.8176789941524\n",
      "Current answer for task Task 4 (EM) is: -1064.8176789941524\n"
     ]
    }
   ],
   "source": [
    "best_loss, best_pi, best_mu, best_sigma = train_EM(X, 3)\n",
    "grader.submit_EM(best_loss)"
   ]
  },
  {
   "cell_type": "markdown",
   "metadata": {
    "colab_type": "text",
    "id": "tYd6tPHKBEEd"
   },
   "source": [
    "If you implemented all the steps correctly, your algorithm should converge in about 20 iterations. Let's plot the clusters to see it. We will assign a cluster label as the most probable cluster index. This can be found using a matrix $\\gamma$ computed on last E-step. "
   ]
  },
  {
   "cell_type": "code",
   "execution_count": 412,
   "metadata": {
    "colab": {},
    "colab_type": "code",
    "id": "mK_M6QLnBEEe"
   },
   "outputs": [
    {
     "name": "stdout",
     "output_type": "stream",
     "text": [
      "[[[ 0.9487411   0.0775266 ]\n",
      "  [ 0.0775266   1.18876008]]\n",
      "\n",
      " [[ 2.3109645   1.8593704 ]\n",
      "  [ 1.8593704   1.68403663]]\n",
      "\n",
      " [[ 1.47763696 -0.4056749 ]\n",
      "  [-0.4056749   1.31673268]]]\n",
      "[1.05915776 0.65915898 1.33457137]\n"
     ]
    },
    {
     "data": {
      "image/png": "[encoded data removed]",
      "text/plain": [
       "<Figure size 432x288 with 1 Axes>"
      ]
     },
     "metadata": {
      "needs_background": "light"
     },
     "output_type": "display_data"
    }
   ],
   "source": [
    "gamma = E_step(X, best_pi, best_mu, best_sigma)\n",
    "labels = gamma.argmax(axis=1)\n",
    "colors = np.array([(31, 119, 180), (255, 127, 14), (44, 160, 44)]) / 255.\n",
    "plt.scatter(X[:, 0], X[:, 1], c=colors[labels], s=30)\n",
    "plt.axis('equal')\n",
    "plt.show()"
   ]
  },
  {
   "cell_type": "markdown",
   "metadata": {
    "colab_type": "text",
    "id": "h4lnjrc7BEEl"
   },
   "source": [
    "# Authorization & Submission\n",
    "To submit assignment parts to Cousera platform, please, enter your e-mail and token into variables below. You can generate a token on this programming assignment's page. <b>Note:</b> The token expires 30 minutes after generation."
   ]
  },
  {
   "cell_type": "code",
   "execution_count": 413,
   "metadata": {
    "colab": {},
    "colab_type": "code",
    "id": "5uQRl29_BEEl"
   },
   "outputs": [
    {
     "name": "stdout",
     "output_type": "stream",
     "text": [
      "You want to submit these numbers:\n",
      "Task Task 1 (E-step): 0.5337178741081263\n",
      "Task Task 2 (M-step: mu): 2.8993918820503826\n",
      "Task Task 2 (M-step: sigma): 5.977105216897528\n",
      "Task Task 2 (M-step: pi): 0.5507624459218775\n",
      "Task Task 3 (VLB): -1213.9734643060171\n",
      "Task Task 4 (EM): -1064.8176789941524\n"
     ]
    }
   ],
   "source": [
    "STUDENT_EMAIL = \"tao_amadeus_shen@126.com\"# EMAIL HERE\n",
    "STUDENT_TOKEN = \"44sj3shtLkZNLF62\"# TOKEN HERE\n",
    "grader.status()"
   ]
  },
  {
   "cell_type": "markdown",
   "metadata": {
    "colab_type": "text",
    "id": "sNCsqNOiBEEn"
   },
   "source": [
    "If you want to submit these answers, run cell below"
   ]
  },
  {
   "cell_type": "code",
   "execution_count": 414,
   "metadata": {
    "colab": {},
    "colab_type": "code",
    "id": "3sc9imWNBEEo"
   },
   "outputs": [
    {
     "name": "stdout",
     "output_type": "stream",
     "text": [
      "Submitted to Coursera platform. See results on assignment page!\n"
     ]
    }
   ],
   "source": [
    "grader.submit(STUDENT_EMAIL, STUDENT_TOKEN)"
   ]
  },
  {
   "cell_type": "code",
   "execution_count": null,
   "metadata": {},
   "outputs": [],
   "source": []
  }
 ],
 "metadata": {
  "colab": {
   "collapsed_sections": [],
   "name": "em_assignment.ipynb",
   "provenance": [],
   "version": "0.3.2"
  },
  "kernelspec": {
   "display_name": "Python 3",
   "language": "python",
   "name": "python3"
  },
  "language_info": {
   "codemirror_mode": {
    "name": "ipython",
    "version": 3
   },
   "file_extension": ".py",
   "mimetype": "text/x-python",
   "name": "python",
   "nbconvert_exporter": "python",
   "pygments_lexer": "ipython3",
   "version": "3.7.3"
  }
 },
 "nbformat": 4,
 "nbformat_minor": 1
}
